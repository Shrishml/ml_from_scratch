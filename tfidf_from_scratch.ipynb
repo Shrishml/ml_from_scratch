{
 "cells": [
  {
   "cell_type": "code",
   "execution_count": 27,
   "metadata": {},
   "outputs": [],
   "source": [
    "import numpy as np\n",
    "import pandas as pd\n",
    "import matplotlib.pyplot as plt\n",
    "import string\n",
    "from nltk.corpus import stopwords\n",
    "%matplotlib inline"
   ]
  },
  {
   "cell_type": "code",
   "execution_count": 39,
   "metadata": {},
   "outputs": [],
   "source": [
    "\n",
    "def textPreprocessing(data):\n",
    "    removePunctuation = [ char.lower() for char in data if char not in string.punctuation ]\n",
    "    sentences = ''.join(removePunctuation)\n",
    "    words = sentences.split()\n",
    "    removeStopwords = [ word for word in words if word not in stopwords.words('english')]\n",
    "    return removeStopwords\n",
    "\n",
    "\n",
    "### TFIDF functions \n",
    "\n",
    "def get_idf(count_vec,smooth_idf=True, keep_shape=False):\n",
    "    shape= count_vec.shape\n",
    "    counts= np.where(count_vec!= 0,1,0) # 1, where there is the term\n",
    "    if smooth_idf:\n",
    "        idf=np.log((len(counts+1)/(np.sum(counts,0)+1)))+1\n",
    "    else:\n",
    "        idf=np.log((len(counts)/(np.sum(counts,0))))+1\n",
    "    if keep_shape:\n",
    "        idf=np.repeat(idf,shape[0]).reshape((shape[1],shape[0])).T\n",
    "    return idf\n",
    "\n",
    "\n",
    "def get_tf(count_vec):\n",
    "    shape= count_vec.shape\n",
    "    tf= count_vec/np.repeat(np.sum(count_vec,1),shape[1]).reshape(shape)\n",
    "    return tf\n",
    "    \n",
    "def get_tfidf(count_vec):\n",
    "    shape= count_vec.shape\n",
    "    idf=get_idf(count_vec,smooth_idf=True, keep_shape= True)\n",
    "    tf= get_tf(count_vec)\n",
    "    tfidf=tf*idf\n",
    "    tfidf_norm=tfidf/np.repeat(np.sqrt(np.sum(tfidf**2,1)),shape[1]).reshape(shape)\n",
    "    return tfidf_norm\n",
    "    \n"
   ]
  },
  {
   "cell_type": "code",
   "execution_count": 40,
   "metadata": {},
   "outputs": [],
   "source": [
    "data = pd.read_csv('smsspamcollection/SMSSpamCollection' , sep='\\t' , names =['label','message'])"
   ]
  },
  {
   "cell_type": "code",
   "execution_count": 33,
   "metadata": {},
   "outputs": [
    {
     "data": {
      "text/html": [
       "<div>\n",
       "<style scoped>\n",
       "    .dataframe tbody tr th:only-of-type {\n",
       "        vertical-align: middle;\n",
       "    }\n",
       "\n",
       "    .dataframe tbody tr th {\n",
       "        vertical-align: top;\n",
       "    }\n",
       "\n",
       "    .dataframe thead th {\n",
       "        text-align: right;\n",
       "    }\n",
       "</style>\n",
       "<table border=\"1\" class=\"dataframe\">\n",
       "  <thead>\n",
       "    <tr style=\"text-align: right;\">\n",
       "      <th></th>\n",
       "      <th>label</th>\n",
       "      <th>message</th>\n",
       "    </tr>\n",
       "  </thead>\n",
       "  <tbody>\n",
       "    <tr>\n",
       "      <th>0</th>\n",
       "      <td>ham</td>\n",
       "      <td>Go until jurong point, crazy.. Available only ...</td>\n",
       "    </tr>\n",
       "    <tr>\n",
       "      <th>1</th>\n",
       "      <td>ham</td>\n",
       "      <td>Ok lar... Joking wif u oni...</td>\n",
       "    </tr>\n",
       "    <tr>\n",
       "      <th>2</th>\n",
       "      <td>spam</td>\n",
       "      <td>Free entry in 2 a wkly comp to win FA Cup fina...</td>\n",
       "    </tr>\n",
       "    <tr>\n",
       "      <th>3</th>\n",
       "      <td>ham</td>\n",
       "      <td>U dun say so early hor... U c already then say...</td>\n",
       "    </tr>\n",
       "    <tr>\n",
       "      <th>4</th>\n",
       "      <td>ham</td>\n",
       "      <td>Nah I don't think he goes to usf, he lives aro...</td>\n",
       "    </tr>\n",
       "  </tbody>\n",
       "</table>\n",
       "</div>"
      ],
      "text/plain": [
       "  label                                            message\n",
       "0   ham  Go until jurong point, crazy.. Available only ...\n",
       "1   ham                      Ok lar... Joking wif u oni...\n",
       "2  spam  Free entry in 2 a wkly comp to win FA Cup fina...\n",
       "3   ham  U dun say so early hor... U c already then say...\n",
       "4   ham  Nah I don't think he goes to usf, he lives aro..."
      ]
     },
     "execution_count": 33,
     "metadata": {},
     "output_type": "execute_result"
    }
   ],
   "source": [
    "data.head()"
   ]
  },
  {
   "cell_type": "code",
   "execution_count": 34,
   "metadata": {},
   "outputs": [
    {
     "name": "stdout",
     "output_type": "stream",
     "text": [
      "<class 'pandas.core.frame.DataFrame'>\n",
      "RangeIndex: 5572 entries, 0 to 5571\n",
      "Data columns (total 2 columns):\n",
      " #   Column   Non-Null Count  Dtype \n",
      "---  ------   --------------  ----- \n",
      " 0   label    5572 non-null   object\n",
      " 1   message  5572 non-null   object\n",
      "dtypes: object(2)\n",
      "memory usage: 87.2+ KB\n"
     ]
    }
   ],
   "source": [
    "data.info()"
   ]
  },
  {
   "cell_type": "code",
   "execution_count": 35,
   "metadata": {},
   "outputs": [
    {
     "data": {
      "text/plain": [
       "array(['ham', 'spam'], dtype=object)"
      ]
     },
     "execution_count": 35,
     "metadata": {},
     "output_type": "execute_result"
    }
   ],
   "source": [
    "data.label.unique() #Binary Classification"
   ]
  },
  {
   "cell_type": "code",
   "execution_count": 36,
   "metadata": {},
   "outputs": [],
   "source": [
    "from sklearn.feature_extraction.text import CountVectorizer\n",
    "wordVector = CountVectorizer(analyzer=textPreprocessing)\n",
    "finalWordVectorCreator = wordVector.fit(data['message'])"
   ]
  },
  {
   "cell_type": "code",
   "execution_count": 37,
   "metadata": {},
   "outputs": [],
   "source": [
    "#finalWordVectorCreator.vocabulary_"
   ]
  },
  {
   "cell_type": "code",
   "execution_count": 38,
   "metadata": {},
   "outputs": [
    {
     "data": {
      "text/plain": [
       "9530"
      ]
     },
     "execution_count": 38,
     "metadata": {},
     "output_type": "execute_result"
    }
   ],
   "source": [
    "len(finalWordVectorCreator.vocabulary_)"
   ]
  },
  {
   "cell_type": "code",
   "execution_count": 52,
   "metadata": {},
   "outputs": [],
   "source": [
    "bow = finalWordVectorCreator.transform(data['message'])\n",
    "#Create Features\n",
    "features = tfidfObject.transform(bow)"
   ]
  },
  {
   "cell_type": "code",
   "execution_count": 42,
   "metadata": {},
   "outputs": [
    {
     "data": {
      "text/plain": [
       "(5572, 9530)"
      ]
     },
     "execution_count": 42,
     "metadata": {},
     "output_type": "execute_result"
    }
   ],
   "source": [
    "count_vec=bow.toarray() # this is count matrix , raw freq for each word in the document\n",
    "count_vec.shape"
   ]
  },
  {
   "cell_type": "code",
   "execution_count": 43,
   "metadata": {},
   "outputs": [],
   "source": [
    "#Tf-IDF\n",
    "from sklearn.feature_extraction.text import TfidfTransformer\n",
    "tfidfObject = TfidfTransformer(smooth_idf=True).fit(bow)  # converted count vec to tfidf"
   ]
  },
  {
   "cell_type": "code",
   "execution_count": 44,
   "metadata": {},
   "outputs": [
    {
     "data": {
      "text/plain": [
       "array([8.23939443, 8.5270765 , 8.93254161, ..., 8.93254161, 6.98663146,\n",
       "       8.93254161])"
      ]
     },
     "execution_count": 44,
     "metadata": {},
     "output_type": "execute_result"
    }
   ],
   "source": [
    "tfidfObject.idf_"
   ]
  },
  {
   "cell_type": "code",
   "execution_count": 45,
   "metadata": {},
   "outputs": [
    {
     "data": {
      "text/plain": [
       "array([8.23921497, 8.52689705, 8.93236215, ..., 8.93236215, 6.98645201,\n",
       "       8.93236215])"
      ]
     },
     "execution_count": 45,
     "metadata": {},
     "output_type": "execute_result"
    }
   ],
   "source": [
    "idf=get_idf(count_vec,smooth_idf=True)\n",
    "idf"
   ]
  },
  {
   "cell_type": "code",
   "execution_count": 54,
   "metadata": {},
   "outputs": [],
   "source": [
    "# get_idf is working well"
   ]
  },
  {
   "cell_type": "code",
   "execution_count": 46,
   "metadata": {},
   "outputs": [
    {
     "data": {
      "text/plain": [
       "array([[8.23921497, 8.52689705, 8.93236215, ..., 8.93236215, 6.98645201,\n",
       "        8.93236215],\n",
       "       [8.23921497, 8.52689705, 8.93236215, ..., 8.93236215, 6.98645201,\n",
       "        8.93236215],\n",
       "       [8.23921497, 8.52689705, 8.93236215, ..., 8.93236215, 6.98645201,\n",
       "        8.93236215],\n",
       "       ...,\n",
       "       [8.23921497, 8.52689705, 8.93236215, ..., 8.93236215, 6.98645201,\n",
       "        8.93236215],\n",
       "       [8.23921497, 8.52689705, 8.93236215, ..., 8.93236215, 6.98645201,\n",
       "        8.93236215],\n",
       "       [8.23921497, 8.52689705, 8.93236215, ..., 8.93236215, 6.98645201,\n",
       "        8.93236215]])"
      ]
     },
     "execution_count": 46,
     "metadata": {},
     "output_type": "execute_result"
    }
   ],
   "source": [
    "idf=get_idf(count_vec,smooth_idf=True, keep_shape= True)\n",
    "idf"
   ]
  },
  {
   "cell_type": "code",
   "execution_count": 50,
   "metadata": {},
   "outputs": [
    {
     "name": "stderr",
     "output_type": "stream",
     "text": [
      "<ipython-input-39-90be2f716bd4>:25: RuntimeWarning: invalid value encountered in true_divide\n",
      "  tf= count_vec/np.repeat(np.sum(count_vec,1),shape[1]).reshape(shape)\n"
     ]
    }
   ],
   "source": [
    "tf= get_tfidf(count_vec)"
   ]
  },
  {
   "cell_type": "code",
   "execution_count": 51,
   "metadata": {},
   "outputs": [
    {
     "data": {
      "text/plain": [
       "array([0.33293859, 0.25317127, 0.31782557, ..., 0.48924674, 0.69008533,\n",
       "       0.53331029])"
      ]
     },
     "execution_count": 51,
     "metadata": {},
     "output_type": "execute_result"
    }
   ],
   "source": [
    "tf[tf!=0]"
   ]
  },
  {
   "cell_type": "code",
   "execution_count": 53,
   "metadata": {},
   "outputs": [
    {
     "data": {
      "text/plain": [
       "array([0.33293662, 0.25317137, 0.31782399, ..., 0.48924917, 0.6900826 ,\n",
       "       0.5333116 ])"
      ]
     },
     "execution_count": 53,
     "metadata": {},
     "output_type": "execute_result"
    }
   ],
   "source": [
    "features.toarray()[features.toarray()!=0]"
   ]
  },
  {
   "cell_type": "code",
   "execution_count": 61,
   "metadata": {},
   "outputs": [],
   "source": [
    "# my functions are working good "
   ]
  },
  {
   "cell_type": "code",
   "execution_count": 55,
   "metadata": {},
   "outputs": [
    {
     "data": {
      "text/plain": [
       "MultinomialNB()"
      ]
     },
     "execution_count": 55,
     "metadata": {},
     "output_type": "execute_result"
    }
   ],
   "source": [
    "#Create Model\n",
    "from sklearn.naive_bayes import MultinomialNB #Best for Text Data Features\n",
    "model = MultinomialNB()\n",
    "model.fit(features,data['label'])"
   ]
  },
  {
   "cell_type": "code",
   "execution_count": 56,
   "metadata": {},
   "outputs": [
    {
     "data": {
      "text/plain": [
       "0.9775664034458005"
      ]
     },
     "execution_count": 56,
     "metadata": {},
     "output_type": "execute_result"
    }
   ],
   "source": [
    "model.score(features,data['label'])"
   ]
  },
  {
   "cell_type": "code",
   "execution_count": 60,
   "metadata": {},
   "outputs": [
    {
     "name": "stdout",
     "output_type": "stream",
     "text": [
      "Enter SMS to check: win a guaranteed lottery\n",
      "Given SMS is a spam SMS\n"
     ]
    }
   ],
   "source": [
    "#Realtime Input Example\n",
    "inputSMS = input(\"Enter SMS to check: \")\n",
    "preprocessText = textPreprocessing(inputSMS)\n",
    "bowText = finalWordVectorCreator.transform(preprocessText)\n",
    "featureText = tfidfObject.transform(bowText)\n",
    "predict = model.predict(featureText)[0]\n",
    "print(\"Given SMS is a {} SMS\".format(predict))\n",
    "\n",
    "# win a guaranteed lottery"
   ]
  },
  {
   "cell_type": "code",
   "execution_count": null,
   "metadata": {},
   "outputs": [],
   "source": []
  },
  {
   "cell_type": "code",
   "execution_count": null,
   "metadata": {},
   "outputs": [],
   "source": []
  },
  {
   "cell_type": "code",
   "execution_count": null,
   "metadata": {},
   "outputs": [],
   "source": []
  },
  {
   "cell_type": "code",
   "execution_count": null,
   "metadata": {},
   "outputs": [],
   "source": []
  }
 ],
 "metadata": {
  "kernelspec": {
   "display_name": "Python 3",
   "language": "python",
   "name": "python3"
  },
  "language_info": {
   "codemirror_mode": {
    "name": "ipython",
    "version": 3
   },
   "file_extension": ".py",
   "mimetype": "text/x-python",
   "name": "python",
   "nbconvert_exporter": "python",
   "pygments_lexer": "ipython3",
   "version": "3.8.8"
  }
 },
 "nbformat": 4,
 "nbformat_minor": 2
}
